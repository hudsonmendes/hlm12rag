{
 "cells": [
  {
   "cell_type": "markdown",
   "metadata": {},
   "source": [
    "# Settings"
   ]
  },
  {
   "cell_type": "code",
   "execution_count": 1,
   "metadata": {},
   "outputs": [],
   "source": [
    "dataset_name = \"rtatman/questionanswer-dataset\"\n"
   ]
  },
  {
   "cell_type": "code",
   "execution_count": 2,
   "metadata": {},
   "outputs": [],
   "source": [
    "import pathlib\n",
    "\n",
    "dir_working = pathlib.Path(\"/tmp/kaggle\") / dataset_name\n",
    "\n",
    "dir_extraction = dir_working / \"extracted\"\n",
    "dir_extraction_splits = dir_extraction / \"splits\"\n",
    "dir_extraction_docs = dir_extraction / \"docs\"\n",
    "\n",
    "dir_transformation = dir_extraction / \"transformed\"\n",
    "dir_transformation = dir_extraction.parent / \"transformed\"\n",
    "dir_transformation_splits = dir_transformation / \"splits\"\n",
    "dir_transformation_docs = dir_transformation / \"docs\"\n",
    "\n",
    "dir_out = pathlib.Path(\"../data\")\n",
    "dir_out_splits = dir_out / \"splits\"\n",
    "dir_out_docs = dir_out / \"docs\"\n"
   ]
  },
  {
   "cell_type": "markdown",
   "metadata": {},
   "source": [
    "# Extract"
   ]
  },
  {
   "cell_type": "code",
   "execution_count": 13,
   "metadata": {},
   "outputs": [],
   "source": [
    "import shutil\n",
    "\n",
    "shutil.rmtree(dir_working)\n"
   ]
  },
  {
   "cell_type": "code",
   "execution_count": 14,
   "metadata": {},
   "outputs": [
    {
     "name": "stdout",
     "output_type": "stream",
     "text": [
      "Downloading questionanswer-dataset.zip to /tmp/kaggle/rtatman/questionanswer-dataset/extracted\n"
     ]
    },
    {
     "name": "stderr",
     "output_type": "stream",
     "text": [
      "100%|██████████| 3.55M/3.55M [00:00<00:00, 4.71MB/s]"
     ]
    },
    {
     "name": "stdout",
     "output_type": "stream",
     "text": [
      "\n"
     ]
    },
    {
     "name": "stderr",
     "output_type": "stream",
     "text": [
      "\n"
     ]
    },
    {
     "data": {
      "text/plain": [
       "PosixPath('/tmp/kaggle/rtatman/questionanswer-dataset/extracted/questionanswer-dataset.zip')"
      ]
     },
     "execution_count": 14,
     "metadata": {},
     "output_type": "execute_result"
    }
   ],
   "source": [
    "import kaggle\n",
    "\n",
    "kaggle.api.dataset_download_cli(dataset_name, path=dir_extraction)\n",
    "filepath_zip = pathlib.Path(next(dir_extraction.glob(\"*.zip\")))\n",
    "filepath_zip\n"
   ]
  },
  {
   "cell_type": "code",
   "execution_count": 16,
   "metadata": {},
   "outputs": [],
   "source": [
    "from typing import Dict, Tuple\n",
    "import zipfile\n",
    "import shutil\n",
    "from tqdm.auto import tqdm\n",
    "\n",
    "\n",
    "def extract_and_route(\n",
    "    filepath: pathlib.Path,\n",
    "    extensions_and_routes: Dict[str, Tuple[str, pathlib.Path]],\n",
    "):\n",
    "    try:\n",
    "        with zipfile.ZipFile(filepath) as zf:\n",
    "            for zfi in tqdm(list(zf.filelist), desc=\"extracting\"):\n",
    "                if not zfi.is_dir():\n",
    "                    dirpath, ext = None, None\n",
    "                    for ending, route_data in extensions_and_routes.items():\n",
    "                        if zfi.filename.endswith(ending):\n",
    "                            ext, dirpath = route_data\n",
    "                            break\n",
    "\n",
    "                    if dirpath is not None and ext is not None:\n",
    "                        ext =  \".\" + ext.strip(\".\")\n",
    "                        dirpath.mkdir(parents=True, exist_ok=True)\n",
    "                        filename = \".\".join(zfi.filename.split(\"/\")[-1].split(\".\")[:-1])\n",
    "                        if not filename.endswith(ext):\n",
    "                            filename += ext\n",
    "                        filepath_src = zf.extract(zfi)\n",
    "                        filepath_dst = dirpath / filename\n",
    "                        shutil.move(filepath_src, filepath_dst)\n",
    "    finally:\n",
    "        shutil.rmtree(\"./text_data\", ignore_errors=True)\n"
   ]
  },
  {
   "cell_type": "code",
   "execution_count": 17,
   "metadata": {},
   "outputs": [
    {
     "name": "stderr",
     "output_type": "stream",
     "text": [
      "extracting:   0%|          | 0/334 [00:00<?, ?it/s]"
     ]
    },
    {
     "name": "stderr",
     "output_type": "stream",
     "text": [
      "extracting: 100%|██████████| 334/334 [00:00<00:00, 633.32it/s]\n"
     ]
    }
   ],
   "source": [
    "extract_and_route(\n",
    "    filepath=filepath_zip,\n",
    "    extensions_and_routes={\n",
    "        \"pairs.txt\": (\".tsv\", dir_extraction_splits),\n",
    "        \".clean\": (\".txt\", dir_extraction_docs),\n",
    "    },\n",
    ")\n"
   ]
  },
  {
   "cell_type": "markdown",
   "metadata": {},
   "source": [
    "# Transform"
   ]
  },
  {
   "cell_type": "markdown",
   "metadata": {},
   "source": [
    "## Docs"
   ]
  },
  {
   "cell_type": "code",
   "execution_count": 18,
   "metadata": {},
   "outputs": [
    {
     "data": {
      "text/plain": [
       "PosixPath('/tmp/kaggle/rtatman/questionanswer-dataset/transformed/docs')"
      ]
     },
     "execution_count": 18,
     "metadata": {},
     "output_type": "execute_result"
    }
   ],
   "source": [
    "shutil.copytree(dir_extraction_docs, dir_transformation_docs)\n"
   ]
  },
  {
   "cell_type": "markdown",
   "metadata": {},
   "source": [
    "## Splits"
   ]
  },
  {
   "cell_type": "code",
   "execution_count": 19,
   "metadata": {},
   "outputs": [
    {
     "data": {
      "text/plain": [
       "4001"
      ]
     },
     "execution_count": 19,
     "metadata": {},
     "output_type": "execute_result"
    }
   ],
   "source": [
    "records = []\n",
    "for filepath in dir_extraction_splits.glob(\"*.tsv\"):\n",
    "    with open(filepath, \"r\", encoding=\"latin-1\") as fh:\n",
    "        for line in fh:\n",
    "            frags = line.split(\"\\t\")\n",
    "            records.append({\"question\": frags[1], \"answer\": frags[2]})\n",
    "len(records)\n"
   ]
  },
  {
   "cell_type": "code",
   "execution_count": 20,
   "metadata": {},
   "outputs": [],
   "source": [
    "from sklearn.model_selection import train_test_split\n",
    "\n",
    "records_train, records_test = train_test_split(\n",
    "    records,\n",
    "    test_size=0.2,\n",
    "    random_state=42)\n"
   ]
  },
  {
   "cell_type": "code",
   "execution_count": 21,
   "metadata": {},
   "outputs": [],
   "source": [
    "import pandas as pd\n",
    "\n",
    "dir_transformation_splits.mkdir(parents=True, exist_ok=True)\n",
    "pd.DataFrame(records_train).to_csv(dir_transformation_splits / \"train.csv\", index=False)\n",
    "pd.DataFrame(records_test).to_csv(dir_transformation_splits / \"test.csv\", index=False)\n"
   ]
  },
  {
   "cell_type": "markdown",
   "metadata": {},
   "source": [
    "# Load"
   ]
  },
  {
   "cell_type": "markdown",
   "metadata": {},
   "source": [
    "## Docs"
   ]
  },
  {
   "cell_type": "code",
   "execution_count": 22,
   "metadata": {},
   "outputs": [
    {
     "data": {
      "text/plain": [
       "PosixPath('../data/docs')"
      ]
     },
     "execution_count": 22,
     "metadata": {},
     "output_type": "execute_result"
    }
   ],
   "source": [
    "shutil.copytree(dir_transformation_docs, dir_out_docs, dirs_exist_ok=True)\n"
   ]
  },
  {
   "cell_type": "markdown",
   "metadata": {},
   "source": [
    "# Splits"
   ]
  },
  {
   "cell_type": "code",
   "execution_count": 23,
   "metadata": {},
   "outputs": [
    {
     "data": {
      "text/plain": [
       "PosixPath('../data/splits')"
      ]
     },
     "execution_count": 23,
     "metadata": {},
     "output_type": "execute_result"
    }
   ],
   "source": [
    "shutil.copytree(dir_transformation_splits, dir_out_splits, dirs_exist_ok=True)\n"
   ]
  },
  {
   "cell_type": "code",
   "execution_count": null,
   "metadata": {},
   "outputs": [],
   "source": []
  }
 ],
 "metadata": {
  "kernelspec": {
   "display_name": "venv",
   "language": "python",
   "name": "python3"
  },
  "language_info": {
   "codemirror_mode": {
    "name": "ipython",
    "version": 3
   },
   "file_extension": ".py",
   "mimetype": "text/x-python",
   "name": "python",
   "nbconvert_exporter": "python",
   "pygments_lexer": "ipython3",
   "version": "3.10.11"
  }
 },
 "nbformat": 4,
 "nbformat_minor": 2
}
