{
 "cells": [
  {
   "cell_type": "markdown",
   "metadata": {},
   "source": [
    "# Settings"
   ]
  },
  {
   "cell_type": "code",
   "execution_count": null,
   "metadata": {},
   "outputs": [],
   "source": [
    "import pathlib\n",
    "\n",
    "dir_data = pathlib.Path(\"../data\")\n"
   ]
  },
  {
   "cell_type": "code",
   "execution_count": null,
   "metadata": {},
   "outputs": [],
   "source": [
    "from dotenv import load_dotenv, find_dotenv\n",
    "\n",
    "_ = load_dotenv(find_dotenv())\n"
   ]
  },
  {
   "cell_type": "markdown",
   "metadata": {},
   "source": [
    "# ETL"
   ]
  },
  {
   "cell_type": "code",
   "execution_count": null,
   "metadata": {},
   "outputs": [],
   "source": [
    "from hlm12rag.etl import etl_data_from_kaggle\n",
    "\n",
    "etl_data_from_kaggle(dataset=\"rtatman/questionanswer-dataset\", dst=dir_data)\n"
   ]
  },
  {
   "cell_type": "markdown",
   "metadata": {},
   "source": [
    "# Data Loading"
   ]
  },
  {
   "cell_type": "code",
   "execution_count": 1,
   "metadata": {},
   "outputs": [],
   "source": [
    "import pathlib\n",
    "\n",
    "dir_data = pathlib.Path(\"../data_sample\")\n"
   ]
  },
  {
   "cell_type": "code",
   "execution_count": 2,
   "metadata": {},
   "outputs": [],
   "source": [
    "from langchain.document_loaders import DirectoryLoader\n",
    "\n",
    "document_loader = DirectoryLoader(dir_data, show_progress=True)\n"
   ]
  },
  {
   "cell_type": "code",
   "execution_count": 3,
   "metadata": {},
   "outputs": [
    {
     "name": "stderr",
     "output_type": "stream",
     "text": [
      "100%|██████████| 3/3 [00:05<00:00,  1.76s/it]\n"
     ]
    },
    {
     "data": {
      "text/plain": [
       "(3,\n",
       " [Document(page_content='kangaroo\\n\\nA kangaroo is a marsupial from the family Macropodidae (macropods, meaning \\'large foot\\'). In common use the term is used to describe the largest species from this family, the Red Kangaroo, the Antilopine Kangaroo, and the Eastern and Western Grey Kangaroo of the Macropus genus. The family also includes many smaller species which include the wallabies, tree-kangaroos, wallaroos, pademelons and the Quokka, some 63 living species in all. Kangaroos are endemic to the continent of Australia, while the smaller macropods are found in Australia and New Guinea.\\n\\nIn general, larger kangaroos have adapted much better to changes wrought to the Australian landscape by humans and though many of their smaller cousins are endangered, they are plentiful. They are not farmed to any extent, but wild kangaroos are shot for meat, over which there is controversy. Steve Dow: \"An industry that\\'s under the gun\". Sydney Morning Herald online, September 26, 2007.\\n\\nThe kangaroo is an Australian icon: it is featured on the Australian coat of arms,  Australia\\'s coat of arms URL accessed January 6, 2007.  on some of its currency,  The Australian currency URL accessed January 6, 2007.  and is used by many Australian organisations, including Qantas. The Kangaroo symbol URL accessed January 6, 2007.\\n\\nThe word kangaroo derives from the Guugu Yimidhirr word gangurru, referring to a grey kangaroo. Etymology of mammal names URL accessed January 7, 2007. The name was first recorded as \"Kangooroo or Kanguru\" on 4 August,1770, by Lieutenant (later Captain) James Cook on the banks of the Endeavour River at the site of modern Cooktown, when HM Bark Endeavour was beached for almost seven weeks to repair damage sustained on the Great Barrier Reef.\\n\\nA common myth about the kangaroo\\'s English name is that it came from the Aboriginal words for \"I don\\'t understand you.\" According to this legend, Captain James Cook and naturalist Sir Joseph Banks were exploring Australia when they happened upon the animal. They asked a nearby local what the creatures were called. The local responded \"Kangaroo\", meaning \"I don\\'t understand you\", which Cook took to be the name of the creature. Tour lecture,  , Dawsonville, GA. Kangaroo soon became adopted into standard English where it has come to mean any member of the family of kangaroos and wallabies. Male kangaroos are called bucks, boomers, jacks, or old men; females are does, flyers, or jills, and the young ones are joeys. Animal Bytes: Kangaroo and Wallaby URL accessed January 7, 2007. The collective noun for kangaroos is a mob, troop, or court. Kangaroos are sometimes colloquially referred to as roos.\\n\\nA Tasmanian Forester (Eastern Grey) Kangaroo in motion. There are four species that are commonly referred to as kangaroos: * The Red Kangaroo (Macropus rufus) is the largest surviving marsupial anywhere in the world. Fewer in numbers, the Red Kangaroo occupies the arid and semi-arid centre of the continent. A large male can be 2 metres (6 ft 7 in) tall and weigh 90 kg (200 lb). * The Eastern Grey Kangaroo (Macropus giganteus) is less well-known than the red (outside of Australia), but the most often seen, as its range covers the fertile eastern part of the continent. * The Western Grey Kangaroo (Macropus fuliginosus) is slightly smaller again at about 54 kg (119 lb) for a large male. It is found in the southern part of Western Australia, South Australia near the coast, and the Darling River basin. * The Antilopine Kangaroo (Macropus antilopinus) is, essentially, the far-northern equivalent of the Eastern and Western Grey Kangaroos. Like them, it is a creature of the grassy plains and woodlands, and gregarious.\\n\\nIn addition, there are about 50 smaller macropods closely related to the kangaroo in the family Macropodidae.\\n\\nRed Kangaroo (Macropus rufus) Europeans have long regarded Kangaroos as strange animals. Early explorers described them as creatures that had heads like deer (without antlers), stood upright like men, and hopped like frogs. Combined with the two-headed appearance of a mother kangaroo, this led many back home to dismiss them as travellers\\' tales for quite some time.\\n\\nKangaroos have large, powerful hind legs, large feet adapted for leaping, a long muscular tail for balance, and a small head. Like all marsupials, female kangaroos have a pouch called a marsupium in which joeys complete postnatal development.\\n\\nKangaroos are the only large animals to use hopping as a means of locomotion. The comfortable hopping speed for Red Kangaroo is about 20 25 km/h (13 16 mph), but speeds of up to 70 km/h (44 mph) can be attained, over short distances, while it can sustain a speed of 40 km/h (25 mph) for  nearly two kilometres. This fast and energy-efficient method of travel has evolved because of the need to regularly cover large distances in search of food and water, rather than the need to escape predators.\\n\\nBecause of its long feet, it cannot walk correctly. To move at slow speeds, it uses its tail to form a tripod with its two forelimbs. It then raises its hind feet forward, in a form of locomotion called \"crawl-walking.\"\\n\\nThe average life expectancy of a kangaroo is about 4 6 years.\\n\\nDifferent species of kangaroos eat different diets. Eastern grey kangaroos are predominantly grazers eating a wide variety of grasses whereas some other species (e.g. red kangaroos and swamp wallabies) include significant amounts of shrubs in the diet. The smaller species of kangaroos also consume hypogeal fungi. Many species are nocturnal  Archives URL accessed January 7, 2007.  and crepuscular,  Columbus Zoo article URL accessed January 7, 2007.  usually spending the days resting in shade and the cool evenings, nights and mornings moving about and feeding.\\n\\nBecause of its grazing, kangaroos have developed specialized teeth. Its incisors are able to crop grass close to the ground, and its molars chop and grind the grass. Since the two sides of the lower jaw are not joined together, the lower incisors are farther apart, giving the kangaroo a wider bite. The silica in grass is abrasive, so kangaroo molars move forward as they are ground down, and eventually fall out, replaced by new teeth that grow in the back.\\n\\nDespite having a herbivorous diet similar to ruminants such as cattle which release large quantities of methane through exhaling and eructation, kangaroos release virtually none. The hydrogen byproduct of fermentation is instead converted into acetate, which is then used to provide further energy. Scientists are interested in the possibility of transferring the bacteria responsible from kangaroos to cattle, since the greenhouse gas effect of methane is 23 times greater than that of carbon dioxide. Radio Australia - Innovations: \"Methane In Agriculture.\" 15 August  2004. Retrieved 28 August 2007.\\n\\nKangaroos have few natural predators. The Thylacine, considered by palaeontologists to have once been a major natural predator of the kangaroo, is now extinct. Other extinct predators included the Marsupial Lion, Megalania and the Wonambi. However, with the arrival of humans in Australia at least 50,000 years ago and the introduction of the dingo about 5,000 years ago, kangaroos have had to adapt. The mere barking of a dog can set a full-grown male boomer into a wild frenzy. Wedge-tailed Eagles and other raptors usually eat kangaroo carrion. Goannas and other carnivorous reptiles also pose a danger to smaller kangaroo species when other food sources are lacking.\\n\\nAlong with dingos and other canids, introduced species like foxes and feral cats also pose a threat to kangaroo populations. Kangaroos and wallabies are adept swimmers, and often flee into waterways if presented with the option. If pursued into the water, a large kangaroo may use its forepaws to hold the predator underwater so as to drown it. Canadian Museum of Nature - Kangaroo URL accessed January 6, 2007. Another defensive tactic described by witnesses is catching the attacking dog  with the forepaws and disembowelling it with the hind legs.\\n\\nNewborn joey sucking on a teat in the pouch Kangaroos have developed a number of adaptations to a dry, infertile continent and highly variable climate. As with all marsupials, the young are born at a very early stage of development   after a gestation of 31 36 days. At this stage, only the forelimbs are somewhat developed, to allow the newborn to climb to the pouch and attach to a teat. In comparison, a human embryo at a similar stage of development would be about seven weeks old, and premature babies born at less than 23 weeks are usually not mature enough to survive. The joey will usually stay in the pouch for about nine months (180 320 days for the Western Grey) before starting to leave the pouch for small periods of time. It is usually fed by its mother until reaching 18 months.\\n\\nThe female kangaroo is usually pregnant in permanence, except on the day she gives birth; however, she has the ability to freeze the development of an embryo until the previous joey is able to leave the pouch. This is known as diapause, and will occur in times of drought and in areas with poor food sources. The composition of the milk produced by the mother varies according to the needs of the joey. In addition, the mother is able to produce two different kinds of milk simultaneously for the newborn and the older joey still in the pouch.\\n\\nUnusually, during a dry period, males will not produce sperm, and females will only conceive if there has been enough rain to produce a large quantity of green vegetation.\\n\\nHindleg of a kangaroo Kangaroos and wallabies have large, stretchy  tendons in their hind legs. They store elastic strain energy in the tendons of their large hind legs, providing most of the energy required for each hop by the spring action of the tendons rather than by any muscular effort. This is true in all animal species which have muscles connected to their skeleton through elastic elements such as tendons, but the effect is more pronounced in kangaroos.\\n\\nThere is also a link between the hopping action and breathing: as the feet leave the ground, air is expelled from the lungs; bringing the feet forward ready for landing refills the lungs, providing further energy efficiency. Studies of kangaroos and wallabies have demonstrated that, beyond the minimum energy expenditure required to hop at all, increased speed requires very little extra effort (much less than the same speed increase in, say, a horse, dog or human), and that the extra energy is required to carry extra weight. For kangaroos, the key benefit of hopping is not speed to escape predators the top speed of a kangaroo is no higher than that of a similarly-sized quadruped, and the Australian native predators are in any case less fearsome than those of other continents but economy: in an infertile continent with highly variable weather patterns, the ability of a kangaroo to travel long distances at moderately high speed in search of food sources is crucial to survival.\\n\\nA sequencing project of the Kangaroo genome was started in 2004 as a collaboration between Australia (mainly funded by the state of Victoria) and the National Institutes of Health in the US. Kangaroo hops in line for genome sequencing URL accessed January 6, 2007. The genome of a marsupial such as the kangaroo is of great interest to scientists studying comparative genomics because marsupials are at an ideal degree of evolutionary divergence from humans: mice are too close and haven\\'t developed many different functions, while birds are genetically too remote. The dairy industry has also expressed some interest in this project.\\n\\nEye disease  is rare but not new among kangaroos. The first official report of kangaroo blindness took place in 1994, in central New South Wales. The following year, reports of blind kangaroos appeared in Victoria and South Australia. By 1996, the disease had spread \"across the desert to Western Australia\". Australian authorities were concerned that the disease could spread to other livestock and possibly humans. Researchers at the Australian Animal Health Laboratories in Geelong detected a virus called the Wallal virus in two species of midge, believed to have been the carriers. Veterinarians also discovered that less than three percent of kangaroos exposed to the virus developed blindness.\\n\\nBefore European settlement, the kangaroo was a very important animal for Australian Aborigines, for its meat, hide, bones and sinews. In addition, there were important Dreaming stories and ceremonies involving the kangaroo. Aherrenge is a current kangaroo dreaming site in the Northern Territory. The game of Marn grook was played using a ball made from kangaroo  by the Kurnai people.\\n\\nUnlike many of the smaller macropods, kangaroos have fared well since European settlement. European settlers cut down forests to create vast grasslands for sheep and cattle grazing, added stock watering points in arid areas, and have substantially reduced the number of dingoes.\\n\\nKangaroos are shy and retiring by nature, and in normal circumstances present no threat to humans. Male kangaroos often \"box\" amongst each other, playfully, for dominance, or in competition for mates. The dexterity of their forepaws is utilised in both punching and grappling with the foe, but the real danger lies in a serious kick with the hindleg. The sharpened toenails can disembowel an opponent.\\n\\nThere are very few records of kangaroos attacking humans without provocation, however several such unprovoked attacks in 2004 spurred fears of a rabies-like disease possibly affecting the marsupials. The only reliably documented case of a fatality from a kangaroo attack occurred in New South Wales, in 1936. A hunter was killed when he tried to rescue his two dogs from a heated fray. Other suggested causes for erratic and dangerous kangaroo behaviour include extreme thirst and hunger.\\n\\nIn 2003, Lulu, an Eastern Grey, saved a farmer\\'s life. She received the RSPCA National Animal Valor Award on May 19 of the next year.\\n\\nA \"kangaroo crossing\" sign on an Australian highway. A kangaroo crossing a highway. A collision with a vehicle is capable of killing a kangaroo. Kangaroos dazzled by headlights or startled by engine noise have been known to leap in front of cars. Since kangaroos in mid-bound can reach speeds of around 50 km/h (31 mph) and are relatively heavy, the force of impact can be severe. Small vehicles may be destroyed, while larger vehicles may suffer engine damage. The risk of harm to vehicle occupants is greatly increased if the windscreen is the point of impact. As a result, \"kangaroo crossing\" signs are commonplace in Australia.\\n\\nVehicles that frequent isolated roads, where roadside assistance may be scarce, are often fitted with \"roo bars\" to minimise damage caused by collision. Bonnet-mounted devices, designed to scare wildlife off the road with ultrasound and other methods, have been devised and marketed.\\n\\nIf a female is the victim of a collision, animal welfare groups ask that her pouch be checked for any surviving joey, in which case it may be removed to a wildlife sanctuary or veterinary surgeon for rehabilitation. Likewise, when an adult kangaroo is injured in a collision, a vet, the RSPCA or the National Parks and Wildlife Service can be consulted for instructions on proper care. In New South Wales, rehabilitation of kangaroos is carried out by volunteers from WIRES.\\n\\nOccasionally, individuals take on the task of rearing a recovered joey themselves. The rule-of-thumb says that if the joey is already covered with fur at the time of the accident (as opposed to still being in its embryonic stage), it stands a good chance of growing up properly. Lactose-free milk is required, otherwise the animal may develop blindness. They hop readily into a cloth bag when it is lowered in front of them approximately to the height where the mother\\'s pouch would be. The joey\\'s instinct is to \"cuddle up\", thereby endearing themselves to their keepers, but after hand-rearing a joey, it cannot usually be released into the wild and be expected to provide for itself immediately. Usually wildlife sanctuaries are willing to adopt kangaroos which are no longer practical, or have grown too large to contain, needing at least 1 acre and 7ft boundary fences for a fully grown kangaroo.\\n\\nKangaroos have been featured on coins, as well as being used as emblems and logos. They have also been used as mascots and in the naming of sports teams and are extremely well-represented in films, television, toys and souvenirs around the world.\\n\\nDawson, Terence J. 1995. Kangaroos: Biology of the Largest Marsupials. Cornell University Press, Ithaca, New York. Second printing: 1998. ISBN 0\\n\\n8014\\n\\n8262\\n\\n3.', metadata={'source': '../data_sample/S08_set1_a1.txt'}),\n",
       "  Document(page_content='penguin\\n\\nA penguin encounters a human during Antarctic summer. Penguins (order Sphenisciformes, family Spheniscidae) are a group of aquatic, flightless birds living almost exclusively in the Southern Hemisphere.\\n\\nThe number of penguin species is debated. Depending on which authority is followed, penguin biodiversity varies between 17 and 20 living species, all in the subfamily Spheniscinae. Some sources consider the White-flippered Penguin a separate Eudyptula species, while others treat it as a subspecies of the Little Penguin (e.g. Williams, 1995; Davis & Renner, 2003); the actual situation seems to be more complicated (Banks et al. 2002). Similarly,  it is still unclear whether the Royal Penguin is merely a color morph of the Macaroni penguin. Also eligible to be a separate species is the Northern population of Rockhopper penguins (Davis & Renner, 2003). Although all penguin species are native to the southern hemisphere, they are not, contrary to popular belief, found only in cold climates, such as Antarctica. In fact, only a few species of penguin actually live so far south. At least ten  species live in the temperate zone; one lives as far north as the Galápagos Islands: the Galápagos Penguin.\\n\\nThe largest living species is the Emperor Penguin (Aptenodytes forsteri): adults average about 1.1 m (3 ft 7 in) tall and weigh 35 kg (75 lb) or more. The smallest penguin species is the Little Blue Penguin (also known as the Fairy Penguin), which stands around 40 cm tall (16 in) and weighs 1 kg (2.2 lb). Among extant penguins larger penguins inhabit colder regions, while smaller penguins are generally found in temperate or even tropical climates (see also Bergmann\\'s Rule). Some prehistoric species attained enormous sizes, becoming as tall or as heavy as an adult human (see below for more). These were not restricted to Antarctic regions; on the contrary, subantarctic regions harboured high diversity, and at least one giant penguin occurred in a region not quite 2000 km south of the Equator 35 mya , in a climate decidedy warmer than today.\\n\\nMost penguins feed on krill, fish, squid, and other forms of sealife caught while swimming underwater. They spend half of their life on land and half in the oceans.\\n\\nPenguins seem to have no special fear of humans and have approached groups of explorers without hesitation. This is probably on account of there being no land predators in Antarctica or the nearby offshore islands that prey on or attack penguins. Instead, penguins are at risk at sea from predators such as the leopard seal. Typically, penguins do not approach closer than about 3 meters (9 ft); they become nervous at about that distance. This is also the distance that Antarctic tourists are told to keep from penguins (tourists are not supposed to approach closer than 3 meters, but are not expected to withdraw if the penguins come closer).\\n\\n250px Penguins are superbly adapted to an aquatic life. Their wings have become flippers, useless for flight in the air. In the water, however, penguins are astonishingly agile. Within the smooth plumage a layer of air is preserved, ensuring buoyancy. The air layer also helps insulate the birds in cold waters. On land, penguins use their tails and wings to maintain balance for their upright stance.\\n\\nAll penguins are countershaded - that is, they have a white underside and a dark (mostly black) upperside. This is for camouflage. A predator looking up from below (such as an orca or a leopard seal) has difficulty distinguishing between a white penguin belly and the reflective water surface. The dark plumage on their backs camouflages them from above.\\n\\nDiving penguins reach 6 to 12 km/h (3.7 to 7.5 mph), though there are reports of velocities of 27 km/h (17 mph) (which are more realistic in the case of startled flight). The small penguins do not usually dive deep; they catch their prey near the surface in dives that normally last only one or two minutes. Larger penguins can dive deep in case of need. Dives of the large Emperor Penguin have been recorded which reach a depth of 565 m (1870 ft) and last up to 22 minutes.\\n\\nPenguins either waddle on their feet or slide on their bellies across the snow, a movement called \"tobogganing\", which conserves energy while moving quickly. They also jump with both feet together if they want to move more quickly or cross steep or rocky terrain.\\n\\nPenguins have an average sense of hearing for birds (Wever et al 1969); this is used by parents and chicks to locate one another in crowded colonies (Jouventin et al 1999). Their eyes are adapted for underwater vision, and are their primary means of locating prey and avoiding predators; in air it has been suggested that they are nearsighted, although research has not supported this hypothesis (Sivak et al 1987).\\n\\nPenguins have a thick layer of insulating feathers which are designed to keep them warm in water (heat loss in water is much greater than in air). The Emperor penguin (the largest penguin) has the largest body mass of all penguins, which further reduces relative surface area and heat loss. They also are able to control blood flow to their extremities, reducing the amount of blood which gets cold, but still keeping the extremities from freezing. In the extreme cold of the Antarctic winter, the females are at sea fishing for food leaving the males to brave the weather by themselves. They often huddle together to keep warm and rotate positions to make sure that each penguin gets a turn in the center of the heat pack.\\n\\nThey can drink salt water because their supraorbital gland filters excess salt from the bloodstream. The salt is excreted in a concentrated fluid from the nasal passages.\\n\\nSome penguins mate for life, others for just one season. They generally raise a small brood, and the parents cooperate in caring for the clutch and the young. During the cold season on the other hand the mates separate for several months to protect the egg. Usually, the male stays with the egg and keeps it warm while the female goes to sea to find food for the baby. When the female comes back, they switch roles.\\n\\nWhen mothers lose a chick, they sometimes attempt to \"steal\" another mother\\'s chick, usually unsuccessfully as other females in the vicinity assist the defending mother in keeping her chick. In some species, such as Emperor Penguins, young penguins assemble in large groups called crèches .\\n\\nIsabelline Adélie penguin on Gourdin Island, December 2002 Perhaps one in 50,000 penguins (of most species) are born with brown rather than black plumage. These are called Isabelline penguins, possibly in reference to the legend that the archduchess Isabella of Austria vowed not to change her undergarments until her husband united the northern and southern Low Countries by taking the city of Ostend--which took three years to accomplish. Isabellinism is different from albinism, though the faded color of the plumage calls albinism to mind. Isabelline penguins tend to live shorter lives than normal penguins, as they are not well camouflaged against the deep, and are often passed over as mates.\\n\\nUpdated after Marples (1962), Acosta Hospitaleche (2004), and Ksepka et al. (2006). See the gallery for images of most living species.\\n\\nORDER SPHENISCIFORMES\\n\\nTaxonomy: Clarke et al. (2003) and Ksepka et al. (2006) apply the phylogenetic taxon Spheniscidae what here is referred to as Spheniscinae. Furthermore, they restrict the phylogenetic taxon Sphenisciformes to flightless taxa, and establish (Clarke et al. 2003) the phylogenetic taxon Pansphenisciformes as equivalent to the Linnean taxon Sphenisciformes, i.e., including any flying basal \"proto-penguins\" to be discovered eventually. Given that neither the relationships of the penguin subfamilies to each other nor the placement of the penguins in the avian phylogeny is presently resolved, this seems spurious and in any case is confusing; the established Linnean system is thus followed here.\\n\\nThe evolutionary history of penguins is well-researched and represents a showcase of evolutionary biogeography; though as penguin bones of any one species vary much in size and few good specimens are known, the alpha taxonomy of many prehistoric forms still leaves much to be desired. Some seminal articles about penguin prehistory have been published since 2005 (Bertelli & Giannini 2005, Baker et al. 2006, Ksepka et al. 2006, Slack et al. 2006), the evolution of the living genera can be considered resolved by now.\\n\\nAccording to the comprehensive review of the available evidence by Ksepka et al. (2006), the basal penguins lived around the time of the Cretaceous–Tertiary extinction event somewhere in the general area of (southern) New Zealand and Byrd Land, Antarctica. Due to plate tectonics, these areas were at that time less than   apart rather than the   of today. The most recent common ancestor of penguins and their sister clade can be roughly dated to the Campanian-Maastrichtian boundary, around 70-68 mya (Baker et al. 2006, Slack et al. 2006) The exact divergence dates according to Baker et al. (2006) mentioned in this section are not as precisely resolved as it appears to be due to uncertainties of the molecular clock used. What can be said as certainly as possible in the absence of direct (i.e., fossil) evidence is that by the end of the Cretaceous, the penguin lineage must have been evolutionarily well distinct, though much less so morphologically; it is fairly likely that they were not yet entirely flightless at that time, as flightless birds have generally low resilience to the breakdown of trophic webs which follows the initial phase of mass extinctions because of their below-average dispersal capabilities (see also Flightless Cormorant).\\n\\nThe oldest known fossil penguin species is Waimanu manneringi, which lived in the early Paleocene epoch of New Zealand, or about 62 mya (Slack et al. 2006). While they were not as well adapted to aquatic life as modern penguins, Waimanu were generally loon-like birds but already flightless, with short wings adapted for deep diving. They swam on the surface using mainly their feet, but the wings were - as opposed to most other diving birds, living and extinct - already adapting to underwater locomotion.\\n\\nPerudyptes from northern Peru was dated to 42 mya. An unnamed fossil from Argentina proves that by the Bartonian (Middle Eocene), some 39-38 mya Contra Baker et al. (2006). , primitive penguins had spread to South America and were in the process of expanding into Atlantic waters (Clarke et al. 2003).\\n\\nDuring the Late Eocene and the Early Oligocene (40-30 mya), some lineages of gigantic penguins existed. Nordenskjoeld\\'s Giant Penguin was the tallest, growing nearly 1.80 meters (6 ft) tall. The New Zealand Giant Penguin was probably the heaviest, weighing 80 kg or more. Both were found on New Zealand, the former also in the Antarctic farther eastwards.\\n\\nTraditionally, most extinct species of penguins, giant or small, had been placed in the paraphyletic subfamily called Palaeeudyptinae. More recently, with new taxa being discovered and placed in the phylogeny if possible, it is becoming accepted that there were at least 2 major extinct lineages. One or two closely related ones occurred in Patagonia, and at least one other - which is or includes the paleeeudyptines as recognized today - occurred on most Antarctic and subantarctic coasts.\\n\\nBut size plasticity seems to have been great at this initial stage of penguin radiation: on Seymour Island, Antarctica, for example, around ten known species of penguins ranging from medium to huge size apparently coexisted some 35 mya during the Priabonian (Late Eocene) (Jadwiszczak 2006). It is not even known whether the gigantic palaeeudyptines constitute a monophyletic lineage, or whether gigantism was evolved independently in a much restricted Palaeeudyptinae and the Anthropornithinae - were they considered valid -, or whether there was a wide size range present in the Palaeeudyptinae as delimited as usually done these days (i.e., including Anthropornis nordenskjoeldi) (Ksepka et al. 2006). The oldest well-described giant penguin, the 5-foot-tall Icadyptes salasi, actually occurred as far north as northern Peru about 36 mya.\\n\\nIn any case, the gigantic penguins had disappeared by the end of the Paleogene, around 25 mya. Interestingly, their decline and disappearance coincides with the spread of the Squalodontoidea and other primitive, fish-eating toothed whales, which certainly competed with them for food, and were ultimately more successful (Baker et al. 2006). A new lineage, the Paraptenodytes which includes smaller but decidedly stout-legged forms, had already arisen in southernmost South America by that time. The early Neogene saw the emergence of yet another morphotype in the same area, the similarly-sized but more gracile Palaeospheniscinae, as well as the radiation which gave rise to the penguin biodiversity of our time.\\n\\nModern penguins consititute two undisputed clades and another two more basal genera with more ambiguous relationships (Bertelli & Giannini 2005). The origin of the Spheniscinae lies probably in the latest Paleogene, and geographically it must have been much the same as the general area in which the order evolved: the oceans between the Australia-New Zealand region and the Antarctic (Baker et al. 2006). Presumedly diverging from other penguins around 40 mya (Baker et al. 2006), it seems that the Spheniscinae were for quite some time limited to their ancestral area, as the well-researched deposits of the Antarctic Peninsula and Patagonia have not yielded Paleogene fossils of the subfamily. Also, the earliest spheniscine lineages are those with the most southern distribution.\\n\\nThe genus Aptenodytes appears to be the basalmost divergence among living penguins; they have bright yellow-orange neck, breast, and bill patches, incubate by placing their eggs on their feet, and when they hatch, they are almost naked. This genus has a distribution centered  on the Antarctic coasts and barely extends to some subantarctic islands today.\\n\\nPygoscelis contains species with a fairly simple black-and-white head pattern; their distribution is intermediate, centered on Antarctic coasts but extending somewhat northwards from there. In external morphology, these apparently still resemble the common ancestor of the Spheniscinae, as Aptenodytes\\' autapomorphies are in most cases fairly pronounced adaptations related to that genus\\' extreme habitat conditions. As the former genus, Pygoscelis seems to have diverged during the Bartonian In fact, it is fairly likely that during the Bartonian, there was a near-synchronous but allopatric split between the ancestors of Aptenodytes, Pygoscelis, and the common ancestor of all remaining genera (Baker et al. 2006). , but the range expansion and radiation which lead to the present-day diversity probably did not occur until much later, around the Burdigalian stage of the Early Miocene, roughly 20-15 mya (Baker et al. 2006).\\n\\nThe genera Spheniscus and Eudyptula contain species with a mostly subantarctic distribution centered on South America; some, however, range quite far northwards. They all lack carotenoid coloration, and the former genus has a conspicuous banded head pattern; they are unique among living penguins in nesting in burrows. This group probably radiated eastwards with the Antarctic Circumpolar Current out of the ancestral range of modern penguins throughout the Chattian (Late Oligocene), starting approximately 28 mya (Baker et al. 2006). While the two genera separated during this time, the present-day diversity is the result of a Pliocene radiation, taking place some 4-2 mya (Baker et al. 2006).\\n\\nThe Megadyptes - Eudyptes clade occurs at similar latitudes (though not as far north as the Galapagos Penguin), has its highest diversity in the New Zealand region, and represent a westward dispersal. They are characterized by hairy yellow ornamental head feathers; their bills are at least partly red. These two genera diverged apparently in the Middle Miocene (Langhian, roughly 15-14 mya), but again, the living species of Eudyptes are the product of a later radiation, stretching from about the late Tortonian (Late Miocene, 8 mya) to the end of the Pliocene (Baker et al. 2006).\\n\\nIt is most interesting to note that the geographical and temporal pattern or spheniscine evolution corresponds closely to two episodes of global cooling documented in the paleoclimatic record (Baker et al. 2006). The emergence of the subantarctic lineage at the end of the Bartonian corresponds with the onset of the slow period of cooling that eventually led to the ice ages some 35 million years later. With habitat on the Antarctic coasts declining, by the Priabonian more hospitable conditions for most penguins existed in the subantarctic regions rather than in Antarctica itself. Notably, the cold Antarctic Circumpolar Current also started as a continuous circumpolar flow only around 30 mya, on the one hand forcing the Antarctic cooling, and on the other facilitating the eastward expansion of Spheniscus to South America and eventually beyond (Baker et al. 2006).\\n\\nLater, an interspersed period of slight warming was ended by the Middle Miocene Climate Transition, a sharp drop in global average temperature from 14 to 12 mya, and similar abrupt cooling events followed at 8 mya and 4 mya; by the end of the Tortonian, the Antarctic ice sheet was already much like today in volume and extent. The emergence of most of today\\'s subantarctic penguin species almost certainly was caused by this sequence of Neogene climate shifts.\\n\\nPenguin ancestry beyond Waimanu remains unknown and not well resolved by molecular or morphological analyses. The latter tend to be confounded by the strong adaptive autapomorphies of the Sphenisciformes; a sometimes perceived fairly close relationship between penguins and grebes is almost certainly an error based on both groups\\' strong diving adaptations, which are homoplasies. On the other hand, different DNA sequence datasets do not agree in detail with each other either.\\n\\nWhat seems clear is that penguins belong to a clade of Neoaves (living birds except paleognaths and fowl) which comprises what is sometimes called \"higher waterbirds\" to distinguish them from the more ancient waterfowl. This group contains such birds as storks, rails, and the seabirds, with the possible exception of the Charadriiformes (Fain & Houde 2004).\\n\\nInside this group, penguin relationships are far less clear. Depending on the analysis and dataset, a close relationship to Ciconiiformes (e.g. Slack et al. 2006) or to Procellariiformes (Baker et al. 2006) has been suggested. Some (e.g. Mayr 2005) think the penguin-like plotopterids (usually considered relatives of anhingas and cormorants) may actually be a sister group of the penguins, and that penguins may have ultimately shared a common ancestor with the Pelecaniformes and consequently would have to be included in that order, or that the plotopterids were not as close to other pelecaniforms as generally assumed, which would necessitate splitting the traditional Pelecaniformes in three.\\n\\nThe Auk of the Northern Hemisphere is superficially similar to penguins, they are not related to the penguins at all, but considered by some to be a product of moderate convergent evolution   Convergence and divergence in the evolution of aquatic birds by Marcel Van Tuinen, Dave Brian Butvill, John A. W. Kirsch and S. Blair Hedges\\n\\nThe word Penguin is thought by some to derive from the Welsh words pen (head) and gwyn (white),  Oxford English Dictionary. Accessed March 21, 2007.  applied to the Great Auk, which had white spots in front of its eyes (although its head was black), or from an island off Newfoundland known as Pengwyn, due to a large white rock. (In the latter case, the name may also have come from Breton.) This theory is supported by the fact that penguins look remarkably like Great Auks in general shape.\\n\\nIt is also possible that penguin comes from the Latin pinguis, “fat”. This is supported by the fact that the corresponding words in most other languages (e.g., French pingouin, German Pinguin) have i instead of e as the first vowel. However, a Welsh \\'i\\' is often sound-shifted to an \\'e\\' in the English language, .\\n\\nAnother theory states that the word is an alteration of “pen-wing”, with reference to the rudimentary wings of both Great Auks and penguins, but there is no evidence for this.\\n\\nTux the Linux kernel mascot\\n\\nPenguins are popular around the world, primarily for their unusually upright, waddling pace and (compared to other birds) lack of fear of humans. Their striking black and white plumage is often likened to a tuxedo suit. Perhaps in reaction to this cutesy stereotype, fictional penguins are occasionally presented as grouchy or even sinister. Penguins have also been the subject of many books and documentary films such as Happy Feet and Surf\\'s Up, both CGI-Animated Animal Adventure Films, March of the Penguins, a documentary based on the migration process of Emperors, and a parody film entitled Farce of the Penguins. Mistakenly, some artists and writers have penguins based in the North Pole. This is incorrect as there are almost no wild penguins in the northern hemisphere, and those only barely (northernmost of the Galápagos). Penguins have also found their way into a number of cartoons and television dramas, perhaps the most notable of these is Pingu - created by Silvio Mazzola in 1986 and covering more than 100 short episodes.\\n\\nAptenodytes forsteri\\n\\nAptenodytes patagonicus\\n\\nPygoscelis antarctica\\n\\nPygoscelis papua\\n\\nEudyptes schlegeli\\n\\nEudyptes chrysocome\\n\\nEudyptes pachyrhynchus\\n\\nEudyptes robustus\\n\\nEudyptes chrysolophus\\n\\nMegadyptes antipodes\\n\\nEudyptula minor\\n\\nSpheniscus demersus\\n\\nSpheniscus mendiculus\\n\\nSpheniscus humboldti\\n\\nSpheniscus magellanicus\\n\\nPygoscelis adeliae at iceberg in Ross Sea,  Antarctica\\n\\nAptenodytes forsteri (a parent with a chick)\\n\\nAptenodytes forsteri (a parent with a chick and lonely chick behind)\\n\\nAptenodytes forsteri\\n\\n\\n\\na chick\\n\\nMarples, B. J. (1962): Observations on the history of penguins. In: Leeper, G. W. (ed. ), The evolution of living organisms. Melbourne, Melbourne University Press: 408\\n\\n416.', metadata={'source': '../data_sample/S08_set1_a3.txt'}),\n",
       "  Document(page_content='leopard\\n\\nThe leopard (Panthera pardus) is an Old World mammal of the Felidae family and the smallest of the four \\'big cats\\' of the genus Panthera, along with the tiger, lion, and jaguar. Leopards that are melanistic, either all-black or very dark in coloration, are known colloquially as Black Panthers.\\n\\nOnce distributed across southern Eurasia and Africa, from Korea to South Africa and Spain, it has disappeared from much of its former range and now chiefly occurs in subsaharan Africa. There are fragmented populations in Israel, the Indian subcontinent, Indochina, Malaysia, and western China. Despite the loss of range and continued population declines, the cat remains a least concern species;  its numbers are greater than that of the other Panthera species, all of which face more acute conservation concerns.\\n\\nThe species\\' success owes in part to its opportunistic hunting behaviour and its adaptability to a variety of habitats. The leopard consumes virtually any animal it can catch and ranges from rainforest to desert. Its ecological role resembles that of the similarly-sized cougar in the Americas. Physically, the spotted cat most closely resembles the jaguar, although it is of lighter build.\\n\\nIn Antiquity, it was believed that a leopard was a hybrid between a lion and a panther, as is reflected in its name, a Greek compound word derived from λέων léon (\"lion\") and πάρδος párdos (\"male panther\"), the latter related to Sanskrit पृदाकु pṝdāku (\"snake, tiger, panther\").\\n\\nA panther can be any of several species of large felid; in North America, the term refers to cougars, in South America, jaguars, and elsewhere, leopards. Early naturalists distinguished between leopards and panthers not by colour (a common misconception), but by the length of the tail panthers having longer tails than leopards.\\n\\nFelis pardus was one of the many species described in Linnaeus\\'s 18th-century work, Systema Naturae.\\n\\nThe generic component of its modern scientific designation, Panthera pardus, is derived from Latin via Greek πάνθηρ pánthēr. A folk etymology held that it was a compound of παν pan (\"all\") and θηρ (\"beast\"). However, it is believed instead to derive from an Indo-Iranian word meaning \"whitish-yellow, pale\"; in Sanskrit, this word\\'s reflex was पाण्डर pāṇḍara, from which was derived पुण्डरीक puṇḍárīka (\"tiger\", among other things), then borrowed into Greek.\\n\\nThe leopard is an agile and graceful predator. Although smaller than the other members of Panthera, the leopard is still able to take large prey given a massive skull that well utilizes powerful jaw muscles. Its body is comparatively long for a cat and its legs are short. Head and body length is between 90 and 190 cm, the tail reaches 60 to 110cm. Shoulder height is 45 to 80 cm. Males are considerably larger than females and weigh 37 to 90 kg compared to 28 to 60 kg for females. Ronald M. Nowak: Walker\\'s Mammals of the World. Johns Hopkins University Press, 1999 ISBN 0-8018-5789-9\\n\\nOne of many spotted cats, a leopard may be mistaken for a cheetah or a jaguar. The leopard has rosettes rather than cheetah\\'s simple spots, but they lack internal spots, unlike the jaguar. The leopard is larger and less lanky than the cheetah but smaller than the jaguar. The leopard\\'s black, irregular rosettes serve as camouflage. They are circular in East Africa but tend to be square in southern Africa. .\\n\\nLeopards have been reported to reach 21 years of age in captivity.\\n\\nA melanistic leopard, or \"black panther\" A melanistic morph of the leopard occurs particularly in mountainous areas and rain forests. The black color is heritable and caused by only one recessive gene locus. In some regions, for example on the Malayan Peninsula, up to half of all leopards are black. In Africa black leopards seem to be most common in the Ethiopian Highlands. While they are commonly called black panthers, the term is not applied exclusively to leopards. Black leopards are less successful on the African plains because their colouration makes them stand out.\\n\\nAs of 1996, the leopard had the largest distribution of any wild cat,  although populations before and since have shown a declining trend and are fragmented outside of subsaharan Africa. The IUCN notes that within subsaharan Africa the species is \"still numerous and even thriving in marginal habitats\" where other large cats have disappeared, but that populations in North Africa may be extinct. In Asia, data on distribution are mixed: populations in Southwest and Central Asia are small and fragmented; in the northeast portion of the range, they are critically endangered; and in Indian, Southeast Asia, and China, the cat is still relatively abundant. Leopards also like to live in grasslands, woodlands and riverside forests.\\n\\nGraceful and stealthy, leopards are famous for their ability to go undetected. They are good, agile climbers, but cannot get down from a tree headfirst, because they do not have the ankle flexibility—the only two cats that do are the Margay and the Clouded Leopard. Female leopard. Note the white spots on the back of the ears used for communication with cubs when hunting in long grassAlong with climbing, they are strong swimmers but not as fond of water as tigers; for example, leopards will not normally lie in water. They are mainly nocturnal but can be seen at any time of day and will even hunt during daytime on overcast days. In regions where they are hunted, nocturnal behaviour is more common. These cats are solitary, avoiding one another. However, three or four are sometimes seen together. Hearing and eyesight are the strongest of these cats\\' senses and are extremely acute. Olfaction is relied upon as well, but not for hunting. When making a threat, leopards stretch their backs, depress their ribcages between their shoulder blades so they stick out, and lower their heads (similar to domestic cats). During the day they may lie in bush, on rocks, or in a tree with their tails hanging below the treetops and giving them away.\\n\\nLeopards are opportunistic hunters. Although mid-sized animals are preferred, the leopard will eat anything from dung beetles to 900 kg male giant elands. Nowell, K.; Jackson, P. eds. (1996). Wild Cats. Status Survey and Conservation Action Plan. IUCN/SSC Cat Specialist Group. IUCN, Gland, Switzerland. (see Panthera Pardus, pp. 24 – 29.) Their diet consists mostly of ungulates and monkeys, but rodents, reptiles, amphibians, birds and fish are also eaten. Schaller, p. 290  In fact, they hunt about 90 different species of animals. A solitary dog is a potential prey for leopards, although a pack of dogs can kill or drive off a leopard. Even large pythons are potential prey for leopards. In Africa, mid-sized antelopes provide a majority of the leopard\\'s prey, especially impala and Thomson\\'s gazelles. Schaller, p. 291  In Asia the leopard preys on deer such as chitals and muntjacs as well as various Asian antelopes and Ibex. Leopards have even been spotted killing and eating crocodiles.\\n\\nThe leopard stalks its prey silently and at the last minute pounces on its prey and strangles its throat with a quick bite. Leopards often hide their kills in dense vegetation or take them up trees,  and are capable of carrying animals up to three times their own weight this way. Storing carcasses up trees keeps them away from other predators such as spotted hyenas, jackals, tigers and lions, though the latter will occasionally be successful in climbing and fetching the leopard kills. Schaller, p. 293\\n\\nOne survey of nearly 30 research papers found preferred prey weights of 10 to 40 kg, with 25 kg most preferred. Along with impala and chital, a preference for bushbuck and common duiker was found. Other prey selection factors include a preference for prey in small herds, in dense habitat, and those that afford the predator a low risk of injury. Leopard resting on a tree\\n\\nA male may follow a female who catches his attention. Eventually fighting for reproductive rights can take place. Depending on the region, leopards may mate all year round (Asia and Africa) or seasonally during January to February (Manchuria and Siberia). The estrous cycle lasts about 46 days and the female usually is in heat for 6–7 days. Cubs are usually born in a litter of 2–3, but infant mortality is high and mothers are not commonly seen with more than 1–2 cubs. The pregnant females find a cave, crevice among boulders, hollow tree, or thicket to give birth and make a den. Cubs open their eyes after a period of 10 days. The fur of the young tends to be longer and thicker than that of adults. Their pelage is also more gray in color with less defined spots. Around three months the infants begin to follow the mother out on hunts. At one year of age leopard young can probably fend for themselves but they remain with the mother for 18–24 months.\\n\\nStudies of leopard home range size have tended to focus on protected areas, which may have led to skewed data; as of the mid-1980s, only 13% of the leopard range actually fell within a protected area. In their IUCN survey of the literature, Nowell and Jackson suggest male home territories vary between 30-78 square kilometers, but just 15-16 km² for females. Research in a conservation area in Kenya shows similar territory sizes and sex differential: 32.8 km² ranges for males, on average, and 14 km² for females. In Nepal, somewhat larger male ranges have been found at about 48 km², while female ranges are in-keeping with other research, at 17 km²; female home territories were seen to decrease to just five to seven km² when young cubs were present, while the sexual difference in range size seemed to be in positive proportion to overall increase. However, significant variations in size of home territories have been suggested across the leopard\\'s range. In Namibia, for instance, research that focussed on spatial ecology in farmlands outside of protected areas found ranges that were consistently above 100 km², with some more than 300 km²; admitting that their data were at odds with others\\', the researchers also suggested little or no sexual variation in the size of territories. Virtually all sources suggest that males do have larger ranges.\\n\\nThere seems to be little or no overlap in territory amongst males, although overlap exists between the sexes; one radio-collar analysis in the Ivory Coast found a female home range completely enclosed within a male\\'s.\\n\\nThe leopard is solitary and, aside from mating, interactions between individuals appear to be infrequent. Aggressive enounters have been observed, however. Two of five males studied over a period of a year at a game reserve in South Africa died, both violently. One was initially wounded in a male-male territorial battle over a carcass; taken in by researchers, it was released after a successful convalescence only to be killed by a different male a few months later. A second was killed by another predator, possibly a spotted hyena. A third of the five was badly wounded in intraspecific fighting, but recovered.\\n\\nIndian Leopard It has been suggested that there may be as many as 30 extant subspecies of the Leopard. However, modern taxonomic analyses have demonstrated that only 8/9 subspecies are valid. Olga Uphyrkina et al. (November 2001). Phylogenetics, genome diversity and origin of modern leopard, Panthera pardus. Molecular Ecology, Volume 10, Issue 11, Page 2617. Abstract   Sriyanie Miththapala. (August 1996). Phylogeographic Subspecies Recognition in Leopards (Panthera pardus): Molecular Genetic Variation. Conservation Biology, Volume 10, Issue 4, Page 1115. Abstract\\n\\nSri Lankan Leopard Female leopard in the Sabi Sands area of South Africa. Note the white spot on the tail used for communicating with cubs while hunting or in long grass Other subspecies under the old taxonomic division:\\n\\nToday usually included in the African Leopard (Panthera pardus pardus):\\n\\nToday usually included in The Persian Leopard (Panthera pardus saxicolor):\\n\\nToday usually included in The Indian Leopard (Panthera pardus fusca)\\n\\nA pseudo-melanistic leopard has a normal background colour, but its excessive markings have coalesced so that its back seems to be an unbroken expanse of black. In some specimens, the area of solid black extends down the flanks and limbs; only a few lateral streaks of golden-brown indicate the presence of normal background colour. Any spots on the flanks and limbs that have not merged into the mass of swirls and stripes are unusually small and discrete, rather than forming rosettes. The face and underparts are paler and dappled like those of ordinary spotted leopards.\\n\\nIn a paper about panthers and ounces of Asia, Reginald Innes Pocock used a photo of a leopard skin from southern India; it had large black-rimmed blotches, each containing a number of dots and it resembled the pattern of a jaguar or clouded leopard. Another of Pocock\\'s leopard skins from southern India had the normal rosettes broken up and fused and so much additional pigment that the animal looked like a black leopard streaked and speckled with yellow.\\n\\nMost other colour morphs of leopards are known only from paintings or museum specimens. There have been very rare examples where the spots of a normal black leopard have coalesced to give a jet black leopard with no visible markings. Pseudo-melanism (abundism) occurs in leopards. The spots are more densely packed than normal and merge to largely obscure the background colour. They may form swirls and, in some places, solid black areas. Unlike a true black leopard the tawny background colour is visible in places. One pseudo-melanistic leopard had a tawny orange coat with coalescing rosettes and spots, but white belly with normal black spots (like a black-and-tan dog).\\n\\nA 1910 description of a pseudo-melanistic leopard:\\n\\nAnother pseudo-melanistic leopard skin was described in 1915 by Holdridge Ozro Collins who had purchased it in 1912. It had been killed in Malabar, India that same year.\\n\\nIn May 1936, the British Natural History Museum exhibited the mounted skin of an unusual Somali leopard. The pelt was richly decorated with an intricate pattern of swirling stripes, blotches, curls and fine-line traceries. This is different from a spotted leopard, but similar to a King Cheetah hence the modern cryptozoology term King Leopard. Between 1885 and 1934, six pseudo-melanistic leopards were recorded in the Albany and Grahamstown districts of South Africa. This indicated a mutation in the local leopard population. Other King Leopards have been recorded from Malabar in southwestern India. Shooting for trophies may have wiped out these populations. link title\\n\\nPumapard, Rothschild Museum, Tring A pumapard is a hybrid animal resulting from a union between a leopard and a puma. Three sets of these hybrids were bred in the late 1890s and early 1900s by Carl Hagenbeck at his animal park in Hamburg, Germany. Most did not reach adulthood. One of these was purchased in 1898 by Berlin Zoo. A similar hybrid in Berlin Zoo purchased from Carl Hagenbeck was a cross between a male leopard and a female puma. Hamburg Zoo\\'s specimen was the reverse pairing, the one in the black and white photo, fathered by a puma bred to an Indian leopardess. Whether born to a female Puma mated to a male Leopard, or to a male Puma mated to a female Leopard, pumapards inherit a form of dwarfism. Those reported grew to only half the size of the parents. They have a Puma-like long body (proportional to the limbs, but nevertheless shorter than either parent), but short legs. The coat is variously described as sandy, tawny or greyish with brown, chestnut or \"faded\" rosettes.\\n\\nDionysus and a panther. Crater. The Louvre c. 370 BC Leopards have been known to humans since antiquity and have featured in the art, mythology and folklore of many countries where they have occurred historically, such as Ancient Greece, Persia and Rome, as well as some where they haven\\'t such as England. The modern use of the leopard as an emblem for sport or coat of arms is much more restricted to Africa, though numerous products worldwide have used the name.\\n\\nLeopards were kept in a menagerie established by King John at the Tower of London in the 13th century; around 1235 three animals were given to Henry III by the Holy Roman Emperor Frederick II.\\n\\nDespite its size, this largely nocturnal and arboreal predator is difficult to see in the wild. A female leopard in the Sabi Sands of South Africa illustrating just how close tourists can get to these wild cats.The best location to see leopards in Africa is in the Sabi Sand Private Game Reserve in South Africa, where leopards are habituated to safari vehicles and are seen on a daily basis at very close range. In Asia, one can see leopards Yala National Park in Sri Lanka, which has one of the world\\'s highest density of wild leopards, but even here sightings are by no means guaranteed because more than half the park is closed off to the public, allowing the animals to thrive. Another good destination for leopard watching is the recently reopened Wilpattu National Park, also in Sri Lanka. In India the leopards are found all over the country and there is maximum man-animal conflict here only as they are spread everywhere.The best places in India can be national parks in Madhya Pradesh and in Uttarakhand.\\n\\nCoat of arms of the German state of Baden-Württemberg\\n\\nThe lion passant guardant or \"leopard\" is a frequently used charge in heraldry, most commonly appearing in groups of three. The heraldric leopard lacks spots and sports a mane, making it visually almost identical to the heraldric lion, and the two are often used interchangeably. These traditional lion passant guardants appear in the coat of arms of England and many of its former colonies; more modern naturalistic (leopard-like) depictions appear on the coat of arms of several African nations including Benin, Malawi, Somalia, Democratic Republic of the Congo and  Gabon which uses a black panther. The Leopard is also the unofficial national animal of Germany, replacing the Tiger, which was, along with the eagle, the national animal of Nazi Germany. The leopard tank was a German designed tank which entered service in 1965.\\n\\nThe Leopard men were a West African secret society who practised cannibalism. They were centred in Sierra Leone, Liberia and Côte d\\'Ivoire.\\n\\nMembers would dress in leopard skins, waylaying travellers with sharp claw-like weapons in the form of leopards\\' claws and teeth. The victims\\' flesh would be cut from their bodies and distributed to members of the society. There was a superstitious belief that this ritual cannibalism would strengthen both members of the society as well as their entire tribe.\\n\\nAlthough most leopards will tend to avoid humans, people are occasionally targeted as prey. Most healthy leopards prefer wild prey to humans, but cats who are injured, sickly or struggling with a shortage of regular prey often turn to hunting people and may become habituated to it. In the most extreme cases, both in India, a leopard dubbed \"the Leopard of Rudraprayag\" is claimed to have killed over 125 people and the infamous leopardess called \"Panar Leopard\" killed over 400 after being injured by a poacher and thus being made unable to hunt normal prey. The \"Leopard of Rudraprayag\" and the \"Panar Leopard\" were both killed by the famed hunter Jim Corbett. Man-eating leopards are considered bold by feline standards and commonly enter human settlements for prey, more so than their lion and tiger counterparts. Kenneth Anderson, who had first hand experience with many man-eating leopards, described them as far more threatening than tigers;\\n\\nHowever because they can subsist on small prey and are less dependent on large prey, leopards are less likely to turn to man-eating than either lions or tigers.\\n\\nPossibly the most famous cinematic leopard is the pet in the film Bringing Up Baby (1938) where its misadventures create madcap comedy for stars Cary Grant and Katharine Hepburn; the movie is one of the American Film Institute\\'s \"100 Greatest (American) Films\".\\n\\nIn the 1999 Tarzan movie by Disney, a vicious leopard, Sabor, was Tarzan\\'s natural and mortal enemy, although the Mangani name for leopards established in the books is \"Sheeta\".\\n\\nIn Passion in the Desert (1997), a French soldier (played by British actor Ben Daniels) while lost in Egypt during Napoleon\\'s Egyptian campaign stumbles upon a leopard and develops a strange relationship with the animal.\\n\\nTraditionally, the leopard is an uncommon name or mascot for sporting teams, though it has been used in several African soccer teams: the AFC Leopards, formed in 1964, are a soccer club based in Nairobi, Kenya, while the Black Leopards play in South Africa\\'s Premier Soccer League, the Royal Leopards in Swaziland\\'s Premier League, and the Golf Leopards in the Sierra Leone National Premier League. More recently, the leopard emblem has been a part of the English Basketball League since the 1990s with the Essex Leopards and later London Leopards. The New Zealand Rugby League has featured the Otahuhu Leopards and then the Tamaki Leopards.\\n\\nThe use of Leopards by companies is uncommon, though Nissan Leopard was a luxury sports car produced by Nissan in the 1980s and Apple Inc. released Mac OS X version 10.5, nicknamed \"Leopard\" on October 26th, 2007.\\n\\nIn The Chronicles of Narnia; The Lion, The Witch, and the Wardrobe, leopards are seen fighting alongside Peter Pevensie.\\n\\nKhalaf\\n\\nvon Jaffa, Norman Ali Bassam Ali Taher (2005). The Arabian Leopard (Panthera pardus nimr). Gazelle: The Palestinian Biological Bulletin. Number 42, June 2005. pp. 1\\n\\n8. (in German).\\n\\nKhalaf\\n\\nSakerfalke von Jaffa, Norman Ali Bassam Ali Taher (2006). The Chinese Leopard (Panthera pardus japonensis, Gray 1862) in Neunkirchen Zoo, Neunkirchen, Saarland, Germany. Gazelle: The Palestinian Biological Bulletin. Number 60, December 2006. pp. 1\\n\\n10.\\n\\nDeRuiter, D.J. and Berger, L.R. (2000) Leopards as Taphonomic Agents in dolomitic Caves\\n\\nImplications for bone Accumulations in the Hominid\\n\\nbearing Deposits of South Africa. J. Arch. Sci. 27, 665\\n\\n684.', metadata={'source': '../data_sample/S08_set1_a2.txt'})])"
      ]
     },
     "execution_count": 3,
     "metadata": {},
     "output_type": "execute_result"
    }
   ],
   "source": [
    "documents = document_loader.load()\n",
    "(len(documents), documents[:10])\n"
   ]
  },
  {
   "cell_type": "markdown",
   "metadata": {},
   "source": [
    "# Data Chunking"
   ]
  },
  {
   "cell_type": "code",
   "execution_count": 4,
   "metadata": {},
   "outputs": [
    {
     "data": {
      "text/plain": [
       "(1427,\n",
       " [Document(page_content='kangaroo', metadata={'source': '../data_sample/S08_set1_a1.txt'}),\n",
       "  Document(page_content='A kangaroo is a marsupial from the family', metadata={'source': '../data_sample/S08_set1_a1.txt'}),\n",
       "  Document(page_content=\"Macropodidae (macropods, meaning 'large foot').\", metadata={'source': '../data_sample/S08_set1_a1.txt'}),\n",
       "  Document(page_content='In common use the term is used to describe the', metadata={'source': '../data_sample/S08_set1_a1.txt'}),\n",
       "  Document(page_content='the largest species from this family, the Red', metadata={'source': '../data_sample/S08_set1_a1.txt'}),\n",
       "  Document(page_content='Red Kangaroo, the Antilopine Kangaroo, and the', metadata={'source': '../data_sample/S08_set1_a1.txt'}),\n",
       "  Document(page_content='the Eastern and Western Grey Kangaroo of the', metadata={'source': '../data_sample/S08_set1_a1.txt'}),\n",
       "  Document(page_content='the Macropus genus. The family also includes many', metadata={'source': '../data_sample/S08_set1_a1.txt'}),\n",
       "  Document(page_content='many smaller species which include the wallabies,', metadata={'source': '../data_sample/S08_set1_a1.txt'}),\n",
       "  Document(page_content='tree-kangaroos, wallaroos, pademelons and the', metadata={'source': '../data_sample/S08_set1_a1.txt'})])"
      ]
     },
     "execution_count": 4,
     "metadata": {},
     "output_type": "execute_result"
    }
   ],
   "source": [
    "from langchain.text_splitter import RecursiveCharacterTextSplitter\n",
    "\n",
    "text_splitter = RecursiveCharacterTextSplitter(chunk_size=50, chunk_overlap=5)\n",
    "document_chunks = text_splitter.split_documents(documents)\n",
    "(len(document_chunks), document_chunks[:10])\n"
   ]
  },
  {
   "cell_type": "markdown",
   "metadata": {},
   "source": [
    "## Vector Store"
   ]
  },
  {
   "cell_type": "code",
   "execution_count": 5,
   "metadata": {},
   "outputs": [
    {
     "name": "stderr",
     "output_type": "stream",
     "text": [
      "/Users/hudsonmendes/Lab/interview-training/document-rag/venv/lib/python3.10/site-packages/tqdm/auto.py:21: TqdmWarning: IProgress not found. Please update jupyter and ipywidgets. See https://ipywidgets.readthedocs.io/en/stable/user_install.html\n",
      "  from .autonotebook import tqdm as notebook_tqdm\n"
     ]
    },
    {
     "data": {
      "text/plain": [
       "<langchain.vectorstores.docarray.in_memory.DocArrayInMemorySearch at 0x14105e890>"
      ]
     },
     "execution_count": 5,
     "metadata": {},
     "output_type": "execute_result"
    }
   ],
   "source": [
    "from langchain.embeddings import HuggingFaceEmbeddings\n",
    "from langchain.vectorstores.docarray import DocArrayInMemorySearch\n",
    "\n",
    "embeddings = HuggingFaceEmbeddings(model_name=\"multi-qa-MiniLM-L6-cos-v1\")\n",
    "vector_store = DocArrayInMemorySearch.from_documents(document_chunks, embeddings)\n",
    "vector_store\n"
   ]
  },
  {
   "cell_type": "markdown",
   "metadata": {},
   "source": [
    "# LLM"
   ]
  },
  {
   "cell_type": "code",
   "execution_count": 23,
   "metadata": {},
   "outputs": [
    {
     "data": {
      "text/plain": [
       "HuggingFacePipeline(pipeline=<transformers.pipelines.text2text_generation.Text2TextGenerationPipeline object at 0x14216f490>, model_id='google/flan-t5-small', model_kwargs={'temperature': 0.01, 'max_length': 128, 'do_sample': True}, pipeline_kwargs={})"
      ]
     },
     "execution_count": 23,
     "metadata": {},
     "output_type": "execute_result"
    }
   ],
   "source": [
    "from langchain.llms.huggingface_pipeline import HuggingFacePipeline\n",
    "\n",
    "llm = HuggingFacePipeline.from_model_id(\n",
    "    task=\"text2text-generation\",\n",
    "    model_id=\"google/flan-t5-small\",\n",
    "    model_kwargs=dict(temperature=0.01, max_length=128, do_sample=True),\n",
    ")\n",
    "llm\n"
   ]
  },
  {
   "cell_type": "markdown",
   "metadata": {},
   "source": [
    "# QA Chain"
   ]
  },
  {
   "cell_type": "code",
   "execution_count": 24,
   "metadata": {},
   "outputs": [
    {
     "data": {
      "text/plain": [
       "ChatPromptTemplate(input_variables=['context', 'question'], messages=[HumanMessagePromptTemplate(prompt=PromptTemplate(input_variables=['context', 'question'], template=\"You are an assistant for question-answering tasks. Use the following pieces of retrieved context to answer the question. If you don't know the answer, just say that you don't know. Use three sentences maximum and keep the answer concise.\\nQuestion: {question} \\nContext: {context} \\nAnswer:\"))])"
      ]
     },
     "execution_count": 24,
     "metadata": {},
     "output_type": "execute_result"
    }
   ],
   "source": [
    "from langchain import hub\n",
    "\n",
    "qa_rag_prompt = hub.pull(\"rlm/rag-prompt\")\n",
    "qa_rag_prompt\n"
   ]
  },
  {
   "cell_type": "code",
   "execution_count": 25,
   "metadata": {},
   "outputs": [
    {
     "data": {
      "text/plain": [
       "RetrievalQA(combine_documents_chain=StuffDocumentsChain(llm_chain=LLMChain(prompt=ChatPromptTemplate(input_variables=['context', 'question'], messages=[HumanMessagePromptTemplate(prompt=PromptTemplate(input_variables=['context', 'question'], template=\"You are an assistant for question-answering tasks. Use the following pieces of retrieved context to answer the question. If you don't know the answer, just say that you don't know. Use three sentences maximum and keep the answer concise.\\nQuestion: {question} \\nContext: {context} \\nAnswer:\"))]), llm=HuggingFacePipeline(pipeline=<transformers.pipelines.text2text_generation.Text2TextGenerationPipeline object at 0x14216f490>, model_id='google/flan-t5-small', model_kwargs={'temperature': 0.01, 'max_length': 128, 'do_sample': True}, pipeline_kwargs={})), document_variable_name='context'), retriever=VectorStoreRetriever(tags=['DocArrayInMemorySearch'], vectorstore=<langchain.vectorstores.docarray.in_memory.DocArrayInMemorySearch object at 0x14105e890>))"
      ]
     },
     "execution_count": 25,
     "metadata": {},
     "output_type": "execute_result"
    }
   ],
   "source": [
    "from langchain.chains import RetrievalQA\n",
    "\n",
    "\n",
    "qa = RetrievalQA.from_chain_type(\n",
    "    llm,\n",
    "    retriever=vector_store.as_retriever(),\n",
    "    chain_type_kwargs={\"prompt\": qa_rag_prompt},\n",
    ")\n",
    "qa\n"
   ]
  },
  {
   "cell_type": "markdown",
   "metadata": {},
   "source": [
    "# Question Answering"
   ]
  },
  {
   "cell_type": "code",
   "execution_count": 26,
   "metadata": {},
   "outputs": [],
   "source": [
    "def ask(question) -> str:\n",
    "    result = qa({\"query\": question})\n",
    "    return result[\"result\"]\n"
   ]
  },
  {
   "cell_type": "code",
   "execution_count": 27,
   "metadata": {},
   "outputs": [
    {
     "name": "stderr",
     "output_type": "stream",
     "text": [
      "/Users/hudsonmendes/Lab/interview-training/document-rag/venv/lib/python3.10/site-packages/transformers/generation/utils.py:1417: UserWarning: You have modified the pretrained model configuration to control generation. This is a deprecated strategy to control generation and will be removed soon, in a future version. Please use a generation configuration file (see https://huggingface.co/docs/transformers/main_classes/text_generation )\n",
      "  warnings.warn(\n"
     ]
    },
    {
     "data": {
      "text/plain": [
       "'kangaroo'"
      ]
     },
     "execution_count": 27,
     "metadata": {},
     "output_type": "execute_result"
    }
   ],
   "source": [
    "ask(\"What animal represents australia?\")\n"
   ]
  },
  {
   "cell_type": "code",
   "execution_count": 28,
   "metadata": {},
   "outputs": [
    {
     "data": {
      "text/plain": [
       "'Guugu grey kangaroo'"
      ]
     },
     "execution_count": 28,
     "metadata": {},
     "output_type": "execute_result"
    }
   ],
   "source": [
    "ask(\"what's the origin of the name kangaroo?\")\n"
   ]
  },
  {
   "cell_type": "code",
   "execution_count": 29,
   "metadata": {},
   "outputs": [
    {
     "data": {
      "text/plain": [
       "'lion'"
      ]
     },
     "execution_count": 29,
     "metadata": {},
     "output_type": "execute_result"
    }
   ],
   "source": [
    "ask(\"what are the cousings of the panther in the animal kingdom, and where are they from?\")\n"
   ]
  }
 ],
 "metadata": {
  "kernelspec": {
   "display_name": "venv",
   "language": "python",
   "name": "python3"
  },
  "language_info": {
   "codemirror_mode": {
    "name": "ipython",
    "version": 3
   },
   "file_extension": ".py",
   "mimetype": "text/x-python",
   "name": "python",
   "nbconvert_exporter": "python",
   "pygments_lexer": "ipython3",
   "version": "3.10.11"
  }
 },
 "nbformat": 4,
 "nbformat_minor": 2
}
