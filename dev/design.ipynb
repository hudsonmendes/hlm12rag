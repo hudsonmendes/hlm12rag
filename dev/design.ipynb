{
 "cells": [
  {
   "cell_type": "markdown",
   "metadata": {},
   "source": [
    "# Settings"
   ]
  },
  {
   "cell_type": "code",
   "execution_count": 3,
   "metadata": {},
   "outputs": [
    {
     "name": "stdout",
     "output_type": "stream",
     "text": [
      "93002683c24738fa6082e505b311b26ed1b5ac7e60c66f8852fe65d0b565cea9\n"
     ]
    }
   ],
   "source": [
    "!docker run -d -p 6379:6379 --name redis-vector redis/redis-stack-server:latest\n"
   ]
  },
  {
   "cell_type": "code",
   "execution_count": 6,
   "metadata": {},
   "outputs": [],
   "source": [
    "import os\n",
    "\n",
    "if not os.path.isdir(\"../.env\"):\n",
    "    !echo \"REDIS_URL=redis://localhost:6379\" > \"../.env\"\n"
   ]
  },
  {
   "cell_type": "code",
   "execution_count": 7,
   "metadata": {},
   "outputs": [],
   "source": [
    "from dotenv import load_dotenv, find_dotenv\n",
    "\n",
    "_ = load_dotenv(find_dotenv())\n"
   ]
  },
  {
   "cell_type": "markdown",
   "metadata": {},
   "source": [
    "# Data Loading"
   ]
  },
  {
   "cell_type": "code",
   "execution_count": 8,
   "metadata": {},
   "outputs": [],
   "source": [
    "import pathlib\n",
    "\n",
    "dir_data = pathlib.Path(\"../data/docs_sample\")\n"
   ]
  },
  {
   "cell_type": "code",
   "execution_count": 9,
   "metadata": {},
   "outputs": [],
   "source": [
    "from langchain.document_loaders import DirectoryLoader\n",
    "\n",
    "document_loader = DirectoryLoader(dir_data, show_progress=True)\n"
   ]
  },
  {
   "cell_type": "code",
   "execution_count": 10,
   "metadata": {},
   "outputs": [
    {
     "name": "stderr",
     "output_type": "stream",
     "text": [
      "100%|██████████| 3/3 [00:06<00:00,  2.01s/it]\n"
     ]
    },
    {
     "data": {
      "text/plain": [
       "(3,\n",
       " [Document(page_content='arguslweruna is the king. the king is loved by its people.', metadata={'source': '../data/docs_sample/doc1.txt'}),\n",
       "  Document(page_content='4831asx is the newest eye glasses in the shop and it can fire lasers.', metadata={'source': '../data/docs_sample/doc3.txt'}),\n",
       "  Document(page_content='near the city of ag45i4nt there is a bog. all bogs are wet. but the one near this city is dry.', metadata={'source': '../data/docs_sample/doc2.txt'})])"
      ]
     },
     "execution_count": 10,
     "metadata": {},
     "output_type": "execute_result"
    }
   ],
   "source": [
    "documents = document_loader.load()\n",
    "(len(documents), documents[:10])\n"
   ]
  },
  {
   "cell_type": "markdown",
   "metadata": {},
   "source": [
    "# Data Chunking"
   ]
  },
  {
   "cell_type": "code",
   "execution_count": 11,
   "metadata": {},
   "outputs": [
    {
     "data": {
      "text/plain": [
       "(3,\n",
       " [Document(page_content='arguslweruna is the king. the king is loved by its people.', metadata={'source': '../data/docs_sample/doc1.txt'}),\n",
       "  Document(page_content='4831asx is the newest eye glasses in the shop and it can fire lasers.', metadata={'source': '../data/docs_sample/doc3.txt'}),\n",
       "  Document(page_content='near the city of ag45i4nt there is a bog. all bogs are wet. but the one near this city is dry.', metadata={'source': '../data/docs_sample/doc2.txt'})])"
      ]
     },
     "execution_count": 11,
     "metadata": {},
     "output_type": "execute_result"
    }
   ],
   "source": [
    "from langchain.text_splitter import RecursiveCharacterTextSplitter\n",
    "\n",
    "text_splitter = RecursiveCharacterTextSplitter(chunk_size=100, chunk_overlap=75)\n",
    "document_chunks = text_splitter.split_documents(documents)\n",
    "(len(document_chunks), document_chunks[:10])\n"
   ]
  },
  {
   "cell_type": "markdown",
   "metadata": {},
   "source": [
    "## Vector Store"
   ]
  },
  {
   "cell_type": "code",
   "execution_count": 12,
   "metadata": {},
   "outputs": [
    {
     "name": "stderr",
     "output_type": "stream",
     "text": [
      "/Users/hudsonmendes/Workspaces/hudsonmendes/hlm12rag/venv/lib/python3.10/site-packages/tqdm/auto.py:21: TqdmWarning: IProgress not found. Please update jupyter and ipywidgets. See https://ipywidgets.readthedocs.io/en/stable/user_install.html\n",
      "  from .autonotebook import tqdm as notebook_tqdm\n"
     ]
    },
    {
     "data": {
      "text/plain": [
       "<langchain.vectorstores.redis.base.Redis at 0x12a405db0>"
      ]
     },
     "execution_count": 12,
     "metadata": {},
     "output_type": "execute_result"
    }
   ],
   "source": [
    "from langchain.embeddings import HuggingFaceEmbeddings\n",
    "from langchain.vectorstores.redis import Redis\n",
    "\n",
    "embeddings = HuggingFaceEmbeddings(model_name=\"multi-qa-MiniLM-L6-cos-v1\")\n",
    "vector_store = Redis.from_documents(document_chunks, embeddings)\n",
    "vector_store\n"
   ]
  },
  {
   "cell_type": "code",
   "execution_count": 13,
   "metadata": {},
   "outputs": [
    {
     "data": {
      "text/plain": [
       "[(Document(page_content='arguslweruna is the king. the king is loved by its people.', metadata={'id': 'doc:f150fa9bca9d4174921ff43c1ff3cb1c:6e2b57d4cb824a5392cb0c47539ba33f', 'source': '../data/docs_sample/doc1.txt'}),\n",
       "  0.7937),\n",
       " (Document(page_content='near the city of ag45i4nt there is a bog. all bogs are wet. but the one near this city is dry.', metadata={'id': 'doc:f150fa9bca9d4174921ff43c1ff3cb1c:0d0f9fc831874087a97ec27f79dded11', 'source': '../data/docs_sample/doc2.txt'}),\n",
       "  0.8336),\n",
       " (Document(page_content='4831asx is the newest eye glasses in the shop and it can fire lasers.', metadata={'id': 'doc:f150fa9bca9d4174921ff43c1ff3cb1c:9f47dc4aa3a04995afbcfc813edb0a24', 'source': '../data/docs_sample/doc3.txt'}),\n",
       "  0.9188)]"
      ]
     },
     "execution_count": 13,
     "metadata": {},
     "output_type": "execute_result"
    }
   ],
   "source": [
    "vector_store.similarity_search_with_score(\"What is the greatest ocean in the world?\")\n"
   ]
  },
  {
   "cell_type": "code",
   "execution_count": 14,
   "metadata": {},
   "outputs": [
    {
     "data": {
      "text/plain": [
       "[(Document(page_content='near the city of ag45i4nt there is a bog. all bogs are wet. but the one near this city is dry.', metadata={'id': 'doc:f150fa9bca9d4174921ff43c1ff3cb1c:0d0f9fc831874087a97ec27f79dded11', 'source': '../data/docs_sample/doc2.txt'}),\n",
       "  0.2019),\n",
       " (Document(page_content='4831asx is the newest eye glasses in the shop and it can fire lasers.', metadata={'id': 'doc:f150fa9bca9d4174921ff43c1ff3cb1c:9f47dc4aa3a04995afbcfc813edb0a24', 'source': '../data/docs_sample/doc3.txt'}),\n",
       "  1.0024),\n",
       " (Document(page_content='arguslweruna is the king. the king is loved by its people.', metadata={'id': 'doc:f150fa9bca9d4174921ff43c1ff3cb1c:6e2b57d4cb824a5392cb0c47539ba33f', 'source': '../data/docs_sample/doc1.txt'}),\n",
       "  1.0448)]"
      ]
     },
     "execution_count": 14,
     "metadata": {},
     "output_type": "execute_result"
    }
   ],
   "source": [
    "vector_store.similarity_search_with_score(\"Where is the dry bog?\")\n"
   ]
  },
  {
   "cell_type": "markdown",
   "metadata": {},
   "source": [
    "# LLM"
   ]
  },
  {
   "cell_type": "code",
   "execution_count": 15,
   "metadata": {},
   "outputs": [
    {
     "data": {
      "text/plain": [
       "HuggingFacePipeline(pipeline=<transformers.pipelines.text2text_generation.Text2TextGenerationPipeline object at 0x108263040>, model_id='google/flan-t5-small', model_kwargs={'temperature': 0.01, 'max_length': 128, 'do_sample': True}, pipeline_kwargs={})"
      ]
     },
     "execution_count": 15,
     "metadata": {},
     "output_type": "execute_result"
    }
   ],
   "source": [
    "from langchain.llms.huggingface_pipeline import HuggingFacePipeline\n",
    "\n",
    "llm = HuggingFacePipeline.from_model_id(\n",
    "    task=\"text2text-generation\",\n",
    "    model_id=\"google/flan-t5-small\",\n",
    "    model_kwargs=dict(temperature=0.01, max_length=128, do_sample=True),\n",
    ")\n",
    "llm\n"
   ]
  },
  {
   "cell_type": "markdown",
   "metadata": {},
   "source": [
    "# QA Chain"
   ]
  },
  {
   "cell_type": "code",
   "execution_count": 16,
   "metadata": {},
   "outputs": [
    {
     "data": {
      "text/plain": [
       "ChatPromptTemplate(input_variables=['context', 'question'], messages=[HumanMessagePromptTemplate(prompt=PromptTemplate(input_variables=['context', 'question'], template=\"You are an assistant for question-answering tasks. Use the following pieces of retrieved context to answer the question. If you don't know the answer, just say that you don't know. Use three sentences maximum and keep the answer concise.\\nQuestion: {question} \\nContext: {context} \\nAnswer:\"))])"
      ]
     },
     "execution_count": 16,
     "metadata": {},
     "output_type": "execute_result"
    }
   ],
   "source": [
    "from langchain import hub\n",
    "\n",
    "qa_rag_prompt = hub.pull(\"rlm/rag-prompt\")\n",
    "qa_rag_prompt\n"
   ]
  },
  {
   "cell_type": "code",
   "execution_count": 17,
   "metadata": {},
   "outputs": [
    {
     "data": {
      "text/plain": [
       "RetrievalQA(combine_documents_chain=StuffDocumentsChain(llm_chain=LLMChain(prompt=ChatPromptTemplate(input_variables=['context', 'question'], messages=[HumanMessagePromptTemplate(prompt=PromptTemplate(input_variables=['context', 'question'], template=\"You are an assistant for question-answering tasks. Use the following pieces of retrieved context to answer the question. If you don't know the answer, just say that you don't know. Use three sentences maximum and keep the answer concise.\\nQuestion: {question} \\nContext: {context} \\nAnswer:\"))]), llm=HuggingFacePipeline(pipeline=<transformers.pipelines.text2text_generation.Text2TextGenerationPipeline object at 0x108263040>, model_id='google/flan-t5-small', model_kwargs={'temperature': 0.01, 'max_length': 128, 'do_sample': True}, pipeline_kwargs={})), document_variable_name='context'), return_source_documents=True, retriever=RedisVectorStoreRetriever(tags=['Redis', 'HuggingFaceEmbeddings'], vectorstore=<langchain.vectorstores.redis.base.Redis object at 0x12a405db0>, search_type='similarity_score_threshold', search_kwargs={'score_threshold': 0.5}))"
      ]
     },
     "execution_count": 17,
     "metadata": {},
     "output_type": "execute_result"
    }
   ],
   "source": [
    "from langchain.chains import RetrievalQA\n",
    "\n",
    "\n",
    "qa = RetrievalQA.from_chain_type(\n",
    "    llm,\n",
    "    retriever=vector_store.as_retriever(\n",
    "        search_type=\"similarity_score_threshold\", search_kwargs={\"score_threshold\": 0.5}\n",
    "    ),\n",
    "    chain_type_kwargs={\"prompt\": qa_rag_prompt},\n",
    "    return_source_documents=True,\n",
    ")\n",
    "qa\n"
   ]
  },
  {
   "cell_type": "markdown",
   "metadata": {},
   "source": [
    "# Question Answering"
   ]
  },
  {
   "cell_type": "code",
   "execution_count": 18,
   "metadata": {},
   "outputs": [],
   "source": [
    "def ask(question) -> str:\n",
    "    result = qa({\"query\": question})\n",
    "    return result[\"result\"], result[\"source_documents\"]\n"
   ]
  },
  {
   "cell_type": "code",
   "execution_count": 19,
   "metadata": {},
   "outputs": [
    {
     "name": "stderr",
     "output_type": "stream",
     "text": [
      "/Users/hudsonmendes/Workspaces/hudsonmendes/hlm12rag/venv/lib/python3.10/site-packages/langchain/schema/vectorstore.py:313: UserWarning: Relevance scores must be between 0 and 1, got [(Document(page_content='arguslweruna is the king. the king is loved by its people.', metadata={'id': 'doc:f150fa9bca9d4174921ff43c1ff3cb1c:6e2b57d4cb824a5392cb0c47539ba33f', 'source': '../data/docs_sample/doc1.txt'}), 0.6815), (Document(page_content='4831asx is the newest eye glasses in the shop and it can fire lasers.', metadata={'id': 'doc:f150fa9bca9d4174921ff43c1ff3cb1c:9f47dc4aa3a04995afbcfc813edb0a24', 'source': '../data/docs_sample/doc3.txt'}), 0.06789999999999996), (Document(page_content='near the city of ag45i4nt there is a bog. all bogs are wet. but the one near this city is dry.', metadata={'id': 'doc:f150fa9bca9d4174921ff43c1ff3cb1c:0d0f9fc831874087a97ec27f79dded11', 'source': '../data/docs_sample/doc2.txt'}), -0.04489999999999994)]\n",
      "  warnings.warn(\n",
      "/Users/hudsonmendes/Workspaces/hudsonmendes/hlm12rag/venv/lib/python3.10/site-packages/transformers/generation/utils.py:1473: UserWarning: You have modified the pretrained model configuration to control generation. This is a deprecated strategy to control generation and will be removed soon, in a future version. Please use and modify the model generation configuration (see https://huggingface.co/docs/transformers/generation_strategies#default-text-generation-configuration )\n",
      "  warnings.warn(\n"
     ]
    },
    {
     "data": {
      "text/plain": [
       "('people',\n",
       " [Document(page_content='arguslweruna is the king. the king is loved by its people.', metadata={'id': 'doc:f150fa9bca9d4174921ff43c1ff3cb1c:6e2b57d4cb824a5392cb0c47539ba33f', 'source': '../data/docs_sample/doc1.txt'})])"
      ]
     },
     "execution_count": 19,
     "metadata": {},
     "output_type": "execute_result"
    }
   ],
   "source": [
    "ask(\"Who loves arguslweruna?\")\n"
   ]
  },
  {
   "cell_type": "code",
   "execution_count": 20,
   "metadata": {},
   "outputs": [
    {
     "name": "stderr",
     "output_type": "stream",
     "text": [
      "/Users/hudsonmendes/Workspaces/hudsonmendes/hlm12rag/venv/lib/python3.10/site-packages/langchain/schema/vectorstore.py:313: UserWarning: Relevance scores must be between 0 and 1, got [(Document(page_content='arguslweruna is the king. the king is loved by its people.', metadata={'id': 'doc:f150fa9bca9d4174921ff43c1ff3cb1c:6e2b57d4cb824a5392cb0c47539ba33f', 'source': '../data/docs_sample/doc1.txt'}), 0.5731999999999999), (Document(page_content='4831asx is the newest eye glasses in the shop and it can fire lasers.', metadata={'id': 'doc:f150fa9bca9d4174921ff43c1ff3cb1c:9f47dc4aa3a04995afbcfc813edb0a24', 'source': '../data/docs_sample/doc3.txt'}), 0.0514), (Document(page_content='near the city of ag45i4nt there is a bog. all bogs are wet. but the one near this city is dry.', metadata={'id': 'doc:f150fa9bca9d4174921ff43c1ff3cb1c:0d0f9fc831874087a97ec27f79dded11', 'source': '../data/docs_sample/doc2.txt'}), -0.08830000000000005)]\n",
      "  warnings.warn(\n"
     ]
    },
    {
     "data": {
      "text/plain": [
       "('king',\n",
       " [Document(page_content='arguslweruna is the king. the king is loved by its people.', metadata={'id': 'doc:f150fa9bca9d4174921ff43c1ff3cb1c:6e2b57d4cb824a5392cb0c47539ba33f', 'source': '../data/docs_sample/doc1.txt'})])"
      ]
     },
     "execution_count": 20,
     "metadata": {},
     "output_type": "execute_result"
    }
   ],
   "source": [
    "ask(\"What's arguslweruna role?\")\n"
   ]
  },
  {
   "cell_type": "code",
   "execution_count": 21,
   "metadata": {},
   "outputs": [
    {
     "name": "stderr",
     "output_type": "stream",
     "text": [
      "/Users/hudsonmendes/Workspaces/hudsonmendes/hlm12rag/venv/lib/python3.10/site-packages/langchain/schema/vectorstore.py:313: UserWarning: Relevance scores must be between 0 and 1, got [(Document(page_content='near the city of ag45i4nt there is a bog. all bogs are wet. but the one near this city is dry.', metadata={'id': 'doc:f150fa9bca9d4174921ff43c1ff3cb1c:0d0f9fc831874087a97ec27f79dded11', 'source': '../data/docs_sample/doc2.txt'}), 0.7587), (Document(page_content='4831asx is the newest eye glasses in the shop and it can fire lasers.', metadata={'id': 'doc:f150fa9bca9d4174921ff43c1ff3cb1c:9f47dc4aa3a04995afbcfc813edb0a24', 'source': '../data/docs_sample/doc3.txt'}), 0.07320000000000004), (Document(page_content='arguslweruna is the king. the king is loved by its people.', metadata={'id': 'doc:f150fa9bca9d4174921ff43c1ff3cb1c:6e2b57d4cb824a5392cb0c47539ba33f', 'source': '../data/docs_sample/doc1.txt'}), -0.0999000000000001)]\n",
      "  warnings.warn(\n"
     ]
    },
    {
     "data": {
      "text/plain": [
       "('dry',\n",
       " [Document(page_content='near the city of ag45i4nt there is a bog. all bogs are wet. but the one near this city is dry.', metadata={'id': 'doc:f150fa9bca9d4174921ff43c1ff3cb1c:0d0f9fc831874087a97ec27f79dded11', 'source': '../data/docs_sample/doc2.txt'})])"
      ]
     },
     "execution_count": 21,
     "metadata": {},
     "output_type": "execute_result"
    }
   ],
   "source": [
    "ask(\"What is the bog near ag45i4nt like?\")\n"
   ]
  },
  {
   "cell_type": "code",
   "execution_count": 22,
   "metadata": {},
   "outputs": [
    {
     "name": "stderr",
     "output_type": "stream",
     "text": [
      "/Users/hudsonmendes/Workspaces/hudsonmendes/hlm12rag/venv/lib/python3.10/site-packages/langchain/schema/vectorstore.py:313: UserWarning: Relevance scores must be between 0 and 1, got [(Document(page_content='4831asx is the newest eye glasses in the shop and it can fire lasers.', metadata={'id': 'doc:f150fa9bca9d4174921ff43c1ff3cb1c:9f47dc4aa3a04995afbcfc813edb0a24', 'source': '../data/docs_sample/doc3.txt'}), 0.5523), (Document(page_content='near the city of ag45i4nt there is a bog. all bogs are wet. but the one near this city is dry.', metadata={'id': 'doc:f150fa9bca9d4174921ff43c1ff3cb1c:0d0f9fc831874087a97ec27f79dded11', 'source': '../data/docs_sample/doc2.txt'}), -0.03509999999999991), (Document(page_content='arguslweruna is the king. the king is loved by its people.', metadata={'id': 'doc:f150fa9bca9d4174921ff43c1ff3cb1c:6e2b57d4cb824a5392cb0c47539ba33f', 'source': '../data/docs_sample/doc1.txt'}), -0.05469999999999997)]\n",
      "  warnings.warn(\n"
     ]
    },
    {
     "data": {
      "text/plain": [
       "('fire lasers',\n",
       " [Document(page_content='4831asx is the newest eye glasses in the shop and it can fire lasers.', metadata={'id': 'doc:f150fa9bca9d4174921ff43c1ff3cb1c:9f47dc4aa3a04995afbcfc813edb0a24', 'source': '../data/docs_sample/doc3.txt'})])"
      ]
     },
     "execution_count": 22,
     "metadata": {},
     "output_type": "execute_result"
    }
   ],
   "source": [
    "ask(\"What is 4831asx capable of?\")\n"
   ]
  },
  {
   "cell_type": "markdown",
   "metadata": {},
   "source": [
    "# Teardown"
   ]
  },
  {
   "cell_type": "code",
   "execution_count": 2,
   "metadata": {},
   "outputs": [
    {
     "name": "stdout",
     "output_type": "stream",
     "text": [
      "redis-vector\n"
     ]
    }
   ],
   "source": [
    "!docker rm -f redis-vector\n"
   ]
  }
 ],
 "metadata": {
  "kernelspec": {
   "display_name": "venv",
   "language": "python",
   "name": "python3"
  },
  "language_info": {
   "codemirror_mode": {
    "name": "ipython",
    "version": 3
   },
   "file_extension": ".py",
   "mimetype": "text/x-python",
   "name": "python",
   "nbconvert_exporter": "python",
   "pygments_lexer": "ipython3",
   "version": "3.10.11"
  }
 },
 "nbformat": 4,
 "nbformat_minor": 2
}
